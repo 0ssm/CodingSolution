{
 "cells": [
  {
   "cell_type": "markdown",
   "id": "64c08536cbf2a7a4",
   "metadata": {},
   "source": [
    "Print the following pattern for the given number of rows.\n",
    "\n",
    "Pattern for N = 3\n",
    "33333\n",
    "32223\n",
    "32123\n",
    "32223\n",
    "33333\n",
    "Input format : N (Total no. of rows)\n",
    "\n",
    "Output format : Pattern in N lines"
   ]
  },
  {
   "cell_type": "code",
   "execution_count": 18,
   "id": "815f4c4035491a18",
   "metadata": {
    "ExecuteTime": {
     "end_time": "2024-01-15T08:07:37.528171200Z",
     "start_time": "2024-01-15T08:07:37.516151600Z"
    }
   },
   "outputs": [
    {
     "ename": "SyntaxError",
     "evalue": "invalid syntax (3357137119.py, line 4)",
     "output_type": "error",
     "traceback": [
      "\u001b[1;36m  Cell \u001b[1;32mIn[18], line 4\u001b[1;36m\u001b[0m\n\u001b[1;33m    if i == 1 or j == 1 or  :\u001b[0m\n\u001b[1;37m                            ^\u001b[0m\n\u001b[1;31mSyntaxError\u001b[0m\u001b[1;31m:\u001b[0m invalid syntax\n"
     ]
    }
   ],
   "source": [
    "n = 3\n",
    "for i in range(n*2-1):\n",
    "    for j in range(n*2-1):\n",
    "        if i == 1 or j == 1 or  :\n",
    "            print(n, end = \"\")\n",
    "        else:\n",
    "            print(\" \", end = \"\")\n",
    "    print()"
   ]
  }
 ],
 "metadata": {
  "kernelspec": {
   "display_name": "Python 3 (ipykernel)",
   "language": "python",
   "name": "python3"
  },
  "language_info": {
   "codemirror_mode": {
    "name": "ipython",
    "version": 3
   },
   "file_extension": ".py",
   "mimetype": "text/x-python",
   "name": "python",
   "nbconvert_exporter": "python",
   "pygments_lexer": "ipython3",
   "version": "3.11.5"
  }
 },
 "nbformat": 4,
 "nbformat_minor": 5
}
