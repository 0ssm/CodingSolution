{
 "cells": [
  {
   "cell_type": "markdown",
   "source": [
    "Print the following pattern for the given number of rows.\n",
    "\n",
    "Pattern for N = 3\n",
    "33333\n",
    "32223\n",
    "32123\n",
    "32223\n",
    "33333\n",
    "Input format : N (Total no. of rows)\n",
    "\n",
    "Output format : Pattern in N lines"
   ],
   "metadata": {
    "collapsed": false
   },
   "id": "64c08536cbf2a7a4"
  },
  {
   "cell_type": "code",
   "outputs": [],
   "source": [
    "n = 3\n",
    "for i in range(n*2-1):\n",
    "    for j in range(n*2-1):\n",
    "        if i == 1 or j == 1 or  :\n",
    "            print(n, end = \"\")\n",
    "        else:\n",
    "            print(\" \", end = \"\")\n",
    "    print()"
   ],
   "metadata": {
    "collapsed": false
   },
   "id": "815f4c4035491a18"
  }
 ],
 "metadata": {
  "kernelspec": {
   "display_name": "Python 3",
   "language": "python",
   "name": "python3"
  },
  "language_info": {
   "codemirror_mode": {
    "name": "ipython",
    "version": 2
   },
   "file_extension": ".py",
   "mimetype": "text/x-python",
   "name": "python",
   "nbconvert_exporter": "python",
   "pygments_lexer": "ipython2",
   "version": "2.7.6"
  }
 },
 "nbformat": 4,
 "nbformat_minor": 5
}
